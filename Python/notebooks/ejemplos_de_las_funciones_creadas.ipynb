{
 "cells": [
  {
   "cell_type": "code",
   "execution_count": 92,
   "metadata": {},
   "outputs": [
    {
     "name": "stdout",
     "output_type": "stream",
     "text": [
      "El directorio es: c:\\\n",
      "Los elementos en el directorio son: ['$Recycle.Bin', '$SysReset', '$WinREAgent', 'Documents and Settings', 'DumpStack.log', 'DumpStack.log.tmp', 'Games', 'hiberfil.sys', 'hp', 'OneDriveTemp', 'pagefile.sys', 'PerfLogs', 'Program Files', 'Program Files (x86)', 'ProgramData', 'Recovery', 'swapfile.sys', 'System Volume Information', 'system.sav', 'texlive', 'Users', 'Windows']\n"
     ]
    }
   ],
   "source": [
    "import os \n",
    "os.chdir(\"..\")\n",
    "print(\"El directorio es:\", os.getcwd())\n",
    "print(\"Los elementos en el directorio son:\", os.listdir())"
   ]
  },
  {
   "cell_type": "code",
   "execution_count": 93,
   "metadata": {},
   "outputs": [],
   "source": [
    "# Importamos las librerías básicas\n",
    "import numpy as np\n",
    "import pandas as pd\n",
    "import matplotlib.pyplot as plt\n",
    "import seaborn as sns\n",
    "\n",
    "# Importamos las clases y funciones creadas\n",
    "from src.helpers import Timer\n",
    "from src.simulation_funcitons import Simulador, OneSampleTTestPower"
   ]
  },
  {
   "cell_type": "markdown",
   "metadata": {},
   "source": [
    "### **Ejemplo de Uso Clase \"Simulador\"**"
   ]
  },
  {
   "cell_type": "code",
   "execution_count": 94,
   "metadata": {},
   "outputs": [],
   "source": [
    "# Esta Clase genera \"num_simulaciones\" simulaciones de una distribución normal \"n\" variada, cuyo vector de medias\n",
    "# es \\vec{1}*\"mu\", y su matriz de covarianzas está generada con un modelo \"variog_model\", con parámetros \"sigma2\", \n",
    "# \"tau2\", \"phi\". A su vez, cada realización de esta variable aleatoria está asociada con unas coordenadas, las cuales \n",
    "# se definen en \"grid_type\", y está ubicadas en un rectángulo delimitado por los parámetros \"min_x_grid\", \"max_x_grid\",\n",
    "# \"min_y_grid\", \"max_y_grid\". El parámetros \"max_h\" es la máxima distancia h para el gráfico de semivariograma."
   ]
  },
  {
   "cell_type": "code",
   "execution_count": 95,
   "metadata": {},
   "outputs": [],
   "source": [
    "# Instanciamos la clase\n",
    "sim = Simulador(n=100,\n",
    "                num_simulaciones=1,\n",
    "                mu=0,\n",
    "                variog_model=\"exponencial\",\n",
    "                tau2=0, \n",
    "                sigma2=5, \n",
    "                phi=30,\n",
    "                max_h=100, \n",
    "                grid_type=\"random\", \n",
    "                min_x_grid=0, \n",
    "                max_x_grid=100, \n",
    "                min_y_grid=0, \n",
    "                max_y_grid=100)\n",
    "\n",
    "# Corremos la simulación\n",
    "sim.run()"
   ]
  },
  {
   "cell_type": "code",
   "execution_count": 96,
   "metadata": {},
   "outputs": [
    {
     "data": {
      "text/html": [
       "<div>\n",
       "<style scoped>\n",
       "    .dataframe tbody tr th:only-of-type {\n",
       "        vertical-align: middle;\n",
       "    }\n",
       "\n",
       "    .dataframe tbody tr th {\n",
       "        vertical-align: top;\n",
       "    }\n",
       "\n",
       "    .dataframe thead th {\n",
       "        text-align: right;\n",
       "    }\n",
       "</style>\n",
       "<table border=\"1\" class=\"dataframe\">\n",
       "  <thead>\n",
       "    <tr style=\"text-align: right;\">\n",
       "      <th></th>\n",
       "      <th>x</th>\n",
       "      <th>y</th>\n",
       "    </tr>\n",
       "  </thead>\n",
       "  <tbody>\n",
       "    <tr>\n",
       "      <th>0</th>\n",
       "      <td>56.808007</td>\n",
       "      <td>18.091484</td>\n",
       "    </tr>\n",
       "    <tr>\n",
       "      <th>1</th>\n",
       "      <td>53.275660</td>\n",
       "      <td>73.239579</td>\n",
       "    </tr>\n",
       "    <tr>\n",
       "      <th>2</th>\n",
       "      <td>12.316247</td>\n",
       "      <td>20.287768</td>\n",
       "    </tr>\n",
       "    <tr>\n",
       "      <th>3</th>\n",
       "      <td>55.732036</td>\n",
       "      <td>61.182333</td>\n",
       "    </tr>\n",
       "    <tr>\n",
       "      <th>4</th>\n",
       "      <td>96.221529</td>\n",
       "      <td>72.955196</td>\n",
       "    </tr>\n",
       "    <tr>\n",
       "      <th>...</th>\n",
       "      <td>...</td>\n",
       "      <td>...</td>\n",
       "    </tr>\n",
       "    <tr>\n",
       "      <th>95</th>\n",
       "      <td>90.982735</td>\n",
       "      <td>61.273817</td>\n",
       "    </tr>\n",
       "    <tr>\n",
       "      <th>96</th>\n",
       "      <td>2.999438</td>\n",
       "      <td>71.874081</td>\n",
       "    </tr>\n",
       "    <tr>\n",
       "      <th>97</th>\n",
       "      <td>90.914545</td>\n",
       "      <td>30.763214</td>\n",
       "    </tr>\n",
       "    <tr>\n",
       "      <th>98</th>\n",
       "      <td>16.160645</td>\n",
       "      <td>54.203755</td>\n",
       "    </tr>\n",
       "    <tr>\n",
       "      <th>99</th>\n",
       "      <td>64.106124</td>\n",
       "      <td>1.976926</td>\n",
       "    </tr>\n",
       "  </tbody>\n",
       "</table>\n",
       "<p>100 rows × 2 columns</p>\n",
       "</div>"
      ],
      "text/plain": [
       "            x          y\n",
       "0   56.808007  18.091484\n",
       "1   53.275660  73.239579\n",
       "2   12.316247  20.287768\n",
       "3   55.732036  61.182333\n",
       "4   96.221529  72.955196\n",
       "..        ...        ...\n",
       "95  90.982735  61.273817\n",
       "96   2.999438  71.874081\n",
       "97  90.914545  30.763214\n",
       "98  16.160645  54.203755\n",
       "99  64.106124   1.976926\n",
       "\n",
       "[100 rows x 2 columns]"
      ]
     },
     "execution_count": 96,
     "metadata": {},
     "output_type": "execute_result"
    }
   ],
   "source": [
    "# Obtenemos las coordenadas de la malla simulada\n",
    "sim.grid"
   ]
  },
  {
   "cell_type": "code",
   "execution_count": 97,
   "metadata": {},
   "outputs": [
    {
     "data": {
      "application/vnd.plotly.v1+json": {
       "config": {
        "plotlyServerURL": "https://plot.ly"
       },
       "data": [
        {
         "hovertemplate": "Eje X=%{x}<br>Eje Y=%{y}<extra></extra>",
         "legendgroup": "",
         "marker": {
          "color": "#636efa",
          "symbol": "circle"
         },
         "mode": "markers",
         "name": "",
         "orientation": "v",
         "showlegend": false,
         "type": "scatter",
         "x": [
          56.80800673528509,
          53.275659510933934,
          12.31624681151443,
          55.732036461067594,
          96.22152928380034,
          98.27060830533689,
          6.557873826100558,
          81.35831139935561,
          77.49475131516999,
          44.347675986444116,
          35.1687456358429,
          71.40043772555951,
          82.90793573660494,
          76.15270891852082,
          34.71630574257085,
          76.56077556018646,
          49.70027935842493,
          7.407322381551373,
          88.34035271754409,
          67.37099005224121,
          87.71197330912038,
          49.45448773956347,
          38.84027162507733,
          74.27696043326975,
          84.53806394447557,
          22.831381804026528,
          11.59636070342842,
          76.2480758440074,
          10.255292832942875,
          24.784226571936298,
          80.8487107381491,
          76.6658329039625,
          10.642651434822492,
          43.447702850034155,
          13.91120427017949,
          60.20265084225864,
          63.93698805318275,
          17.190022133436457,
          98.11653914715237,
          82.55280078579081,
          77.94952849075028,
          67.07637974519272,
          55.47914177488625,
          7.364707549539751,
          70.73539684075364,
          59.689362945985515,
          43.069781160660604,
          94.174545836539,
          8.788674111299311,
          11.571735266179495,
          96.49428799265444,
          28.149566496088273,
          44.18312688715681,
          48.06950066198446,
          92.63075183095101,
          23.73003916400921,
          63.71117921558193,
          35.04378645798691,
          90.22673078818288,
          91.1916452447203,
          72.4735598233014,
          8.414493212469731,
          51.94695250425604,
          67.88812430867696,
          40.025341704415496,
          63.72413188810411,
          87.4287011170858,
          56.39783290436776,
          99.82265753470105,
          72.32392738327074,
          48.397653461916576,
          7.975029591334271,
          37.95193371440189,
          15.262602879139319,
          19.7553387732047,
          59.870065081490985,
          89.32915188171859,
          26.92992215275106,
          89.33160287925574,
          77.53956708647145,
          72.80914341287892,
          36.101036035176904,
          96.42994514084026,
          63.724488819522094,
          52.93303167026478,
          49.09068745838668,
          78.06098264248564,
          61.24992041817639,
          84.51698254363647,
          30.56451109510666,
          94.02562734003935,
          45.992037481729085,
          7.10211312967165,
          0.30139514010779633,
          42.8108920134878,
          90.98273486133668,
          2.9994378051492854,
          90.91454520462555,
          16.16064525957942,
          64.10612410164572
         ],
         "xaxis": "x",
         "y": [
          18.091483748330884,
          73.23957908938101,
          20.28776777753639,
          61.182333242116435,
          72.95519604749047,
          38.095029371404166,
          77.39747318553793,
          86.38567375080508,
          76.47676365072952,
          0.6468820925003671,
          6.93550849743827,
          62.10836590041249,
          83.37465182934922,
          67.17453779614885,
          61.677565362594265,
          8.084574315121461,
          53.59372048396798,
          62.31148251357246,
          86.34452264884013,
          3.2448920120902947,
          40.913852688278894,
          62.84331793441764,
          45.91153671508379,
          87.48594578766988,
          81.01656856632844,
          14.948131351068405,
          43.071161091895625,
          91.47810812284483,
          18.031231325844686,
          45.7442442557503,
          10.369785669385257,
          89.29892914949951,
          50.65961220132844,
          59.209271755167755,
          9.462501036426785,
          91.8176128730431,
          24.41825589400157,
          2.916396183731651,
          81.17175952071379,
          92.23389610085802,
          10.913320349933041,
          10.627723131924672,
          45.56755105220832,
          7.86594627682573,
          27.27978031191092,
          25.70082949435267,
          4.903380474859342,
          21.565015402708987,
          73.78371172639554,
          93.49139650109547,
          78.52139753587892,
          60.349442983488245,
          93.85712778878656,
          6.036733560096696,
          37.17709811087063,
          50.84733220844504,
          60.560547981762404,
          92.62461689442554,
          97.39024481778928,
          81.18648055867594,
          98.3302053039392,
          91.39811649991138,
          82.91261956524444,
          53.75210807952239,
          59.35062498024216,
          32.80550197394978,
          68.21508874331602,
          74.05810122078188,
          95.10360258647165,
          66.54832126510598,
          35.08528628142684,
          75.52731272344913,
          96.938316454519,
          64.27782725611118,
          97.41088621091829,
          94.24604873603974,
          61.00782381022769,
          26.261644005673922,
          53.10626995490587,
          3.668915630437397,
          92.5752468289948,
          82.0557070212975,
          79.60553409906498,
          70.29816168820115,
          84.77871323154437,
          90.87193644241499,
          69.17627721715445,
          10.276078709559755,
          23.658883893314886,
          32.45989246944313,
          63.41200281334238,
          8.409622638703407,
          24.789632284231022,
          5.418679155328132,
          29.28026107353641,
          61.273816757198716,
          71.87408064033298,
          30.76321362247658,
          54.20375471307335,
          1.9769263144251537
         ],
         "yaxis": "y"
        }
       ],
       "layout": {
        "height": 800,
        "legend": {
         "tracegroupgap": 0
        },
        "template": {
         "data": {
          "bar": [
           {
            "error_x": {
             "color": "#2a3f5f"
            },
            "error_y": {
             "color": "#2a3f5f"
            },
            "marker": {
             "line": {
              "color": "#E5ECF6",
              "width": 0.5
             },
             "pattern": {
              "fillmode": "overlay",
              "size": 10,
              "solidity": 0.2
             }
            },
            "type": "bar"
           }
          ],
          "barpolar": [
           {
            "marker": {
             "line": {
              "color": "#E5ECF6",
              "width": 0.5
             },
             "pattern": {
              "fillmode": "overlay",
              "size": 10,
              "solidity": 0.2
             }
            },
            "type": "barpolar"
           }
          ],
          "carpet": [
           {
            "aaxis": {
             "endlinecolor": "#2a3f5f",
             "gridcolor": "white",
             "linecolor": "white",
             "minorgridcolor": "white",
             "startlinecolor": "#2a3f5f"
            },
            "baxis": {
             "endlinecolor": "#2a3f5f",
             "gridcolor": "white",
             "linecolor": "white",
             "minorgridcolor": "white",
             "startlinecolor": "#2a3f5f"
            },
            "type": "carpet"
           }
          ],
          "choropleth": [
           {
            "colorbar": {
             "outlinewidth": 0,
             "ticks": ""
            },
            "type": "choropleth"
           }
          ],
          "contour": [
           {
            "colorbar": {
             "outlinewidth": 0,
             "ticks": ""
            },
            "colorscale": [
             [
              0,
              "#0d0887"
             ],
             [
              0.1111111111111111,
              "#46039f"
             ],
             [
              0.2222222222222222,
              "#7201a8"
             ],
             [
              0.3333333333333333,
              "#9c179e"
             ],
             [
              0.4444444444444444,
              "#bd3786"
             ],
             [
              0.5555555555555556,
              "#d8576b"
             ],
             [
              0.6666666666666666,
              "#ed7953"
             ],
             [
              0.7777777777777778,
              "#fb9f3a"
             ],
             [
              0.8888888888888888,
              "#fdca26"
             ],
             [
              1,
              "#f0f921"
             ]
            ],
            "type": "contour"
           }
          ],
          "contourcarpet": [
           {
            "colorbar": {
             "outlinewidth": 0,
             "ticks": ""
            },
            "type": "contourcarpet"
           }
          ],
          "heatmap": [
           {
            "colorbar": {
             "outlinewidth": 0,
             "ticks": ""
            },
            "colorscale": [
             [
              0,
              "#0d0887"
             ],
             [
              0.1111111111111111,
              "#46039f"
             ],
             [
              0.2222222222222222,
              "#7201a8"
             ],
             [
              0.3333333333333333,
              "#9c179e"
             ],
             [
              0.4444444444444444,
              "#bd3786"
             ],
             [
              0.5555555555555556,
              "#d8576b"
             ],
             [
              0.6666666666666666,
              "#ed7953"
             ],
             [
              0.7777777777777778,
              "#fb9f3a"
             ],
             [
              0.8888888888888888,
              "#fdca26"
             ],
             [
              1,
              "#f0f921"
             ]
            ],
            "type": "heatmap"
           }
          ],
          "heatmapgl": [
           {
            "colorbar": {
             "outlinewidth": 0,
             "ticks": ""
            },
            "colorscale": [
             [
              0,
              "#0d0887"
             ],
             [
              0.1111111111111111,
              "#46039f"
             ],
             [
              0.2222222222222222,
              "#7201a8"
             ],
             [
              0.3333333333333333,
              "#9c179e"
             ],
             [
              0.4444444444444444,
              "#bd3786"
             ],
             [
              0.5555555555555556,
              "#d8576b"
             ],
             [
              0.6666666666666666,
              "#ed7953"
             ],
             [
              0.7777777777777778,
              "#fb9f3a"
             ],
             [
              0.8888888888888888,
              "#fdca26"
             ],
             [
              1,
              "#f0f921"
             ]
            ],
            "type": "heatmapgl"
           }
          ],
          "histogram": [
           {
            "marker": {
             "pattern": {
              "fillmode": "overlay",
              "size": 10,
              "solidity": 0.2
             }
            },
            "type": "histogram"
           }
          ],
          "histogram2d": [
           {
            "colorbar": {
             "outlinewidth": 0,
             "ticks": ""
            },
            "colorscale": [
             [
              0,
              "#0d0887"
             ],
             [
              0.1111111111111111,
              "#46039f"
             ],
             [
              0.2222222222222222,
              "#7201a8"
             ],
             [
              0.3333333333333333,
              "#9c179e"
             ],
             [
              0.4444444444444444,
              "#bd3786"
             ],
             [
              0.5555555555555556,
              "#d8576b"
             ],
             [
              0.6666666666666666,
              "#ed7953"
             ],
             [
              0.7777777777777778,
              "#fb9f3a"
             ],
             [
              0.8888888888888888,
              "#fdca26"
             ],
             [
              1,
              "#f0f921"
             ]
            ],
            "type": "histogram2d"
           }
          ],
          "histogram2dcontour": [
           {
            "colorbar": {
             "outlinewidth": 0,
             "ticks": ""
            },
            "colorscale": [
             [
              0,
              "#0d0887"
             ],
             [
              0.1111111111111111,
              "#46039f"
             ],
             [
              0.2222222222222222,
              "#7201a8"
             ],
             [
              0.3333333333333333,
              "#9c179e"
             ],
             [
              0.4444444444444444,
              "#bd3786"
             ],
             [
              0.5555555555555556,
              "#d8576b"
             ],
             [
              0.6666666666666666,
              "#ed7953"
             ],
             [
              0.7777777777777778,
              "#fb9f3a"
             ],
             [
              0.8888888888888888,
              "#fdca26"
             ],
             [
              1,
              "#f0f921"
             ]
            ],
            "type": "histogram2dcontour"
           }
          ],
          "mesh3d": [
           {
            "colorbar": {
             "outlinewidth": 0,
             "ticks": ""
            },
            "type": "mesh3d"
           }
          ],
          "parcoords": [
           {
            "line": {
             "colorbar": {
              "outlinewidth": 0,
              "ticks": ""
             }
            },
            "type": "parcoords"
           }
          ],
          "pie": [
           {
            "automargin": true,
            "type": "pie"
           }
          ],
          "scatter": [
           {
            "fillpattern": {
             "fillmode": "overlay",
             "size": 10,
             "solidity": 0.2
            },
            "type": "scatter"
           }
          ],
          "scatter3d": [
           {
            "line": {
             "colorbar": {
              "outlinewidth": 0,
              "ticks": ""
             }
            },
            "marker": {
             "colorbar": {
              "outlinewidth": 0,
              "ticks": ""
             }
            },
            "type": "scatter3d"
           }
          ],
          "scattercarpet": [
           {
            "marker": {
             "colorbar": {
              "outlinewidth": 0,
              "ticks": ""
             }
            },
            "type": "scattercarpet"
           }
          ],
          "scattergeo": [
           {
            "marker": {
             "colorbar": {
              "outlinewidth": 0,
              "ticks": ""
             }
            },
            "type": "scattergeo"
           }
          ],
          "scattergl": [
           {
            "marker": {
             "colorbar": {
              "outlinewidth": 0,
              "ticks": ""
             }
            },
            "type": "scattergl"
           }
          ],
          "scattermapbox": [
           {
            "marker": {
             "colorbar": {
              "outlinewidth": 0,
              "ticks": ""
             }
            },
            "type": "scattermapbox"
           }
          ],
          "scatterpolar": [
           {
            "marker": {
             "colorbar": {
              "outlinewidth": 0,
              "ticks": ""
             }
            },
            "type": "scatterpolar"
           }
          ],
          "scatterpolargl": [
           {
            "marker": {
             "colorbar": {
              "outlinewidth": 0,
              "ticks": ""
             }
            },
            "type": "scatterpolargl"
           }
          ],
          "scatterternary": [
           {
            "marker": {
             "colorbar": {
              "outlinewidth": 0,
              "ticks": ""
             }
            },
            "type": "scatterternary"
           }
          ],
          "surface": [
           {
            "colorbar": {
             "outlinewidth": 0,
             "ticks": ""
            },
            "colorscale": [
             [
              0,
              "#0d0887"
             ],
             [
              0.1111111111111111,
              "#46039f"
             ],
             [
              0.2222222222222222,
              "#7201a8"
             ],
             [
              0.3333333333333333,
              "#9c179e"
             ],
             [
              0.4444444444444444,
              "#bd3786"
             ],
             [
              0.5555555555555556,
              "#d8576b"
             ],
             [
              0.6666666666666666,
              "#ed7953"
             ],
             [
              0.7777777777777778,
              "#fb9f3a"
             ],
             [
              0.8888888888888888,
              "#fdca26"
             ],
             [
              1,
              "#f0f921"
             ]
            ],
            "type": "surface"
           }
          ],
          "table": [
           {
            "cells": {
             "fill": {
              "color": "#EBF0F8"
             },
             "line": {
              "color": "white"
             }
            },
            "header": {
             "fill": {
              "color": "#C8D4E3"
             },
             "line": {
              "color": "white"
             }
            },
            "type": "table"
           }
          ]
         },
         "layout": {
          "annotationdefaults": {
           "arrowcolor": "#2a3f5f",
           "arrowhead": 0,
           "arrowwidth": 1
          },
          "autotypenumbers": "strict",
          "coloraxis": {
           "colorbar": {
            "outlinewidth": 0,
            "ticks": ""
           }
          },
          "colorscale": {
           "diverging": [
            [
             0,
             "#8e0152"
            ],
            [
             0.1,
             "#c51b7d"
            ],
            [
             0.2,
             "#de77ae"
            ],
            [
             0.3,
             "#f1b6da"
            ],
            [
             0.4,
             "#fde0ef"
            ],
            [
             0.5,
             "#f7f7f7"
            ],
            [
             0.6,
             "#e6f5d0"
            ],
            [
             0.7,
             "#b8e186"
            ],
            [
             0.8,
             "#7fbc41"
            ],
            [
             0.9,
             "#4d9221"
            ],
            [
             1,
             "#276419"
            ]
           ],
           "sequential": [
            [
             0,
             "#0d0887"
            ],
            [
             0.1111111111111111,
             "#46039f"
            ],
            [
             0.2222222222222222,
             "#7201a8"
            ],
            [
             0.3333333333333333,
             "#9c179e"
            ],
            [
             0.4444444444444444,
             "#bd3786"
            ],
            [
             0.5555555555555556,
             "#d8576b"
            ],
            [
             0.6666666666666666,
             "#ed7953"
            ],
            [
             0.7777777777777778,
             "#fb9f3a"
            ],
            [
             0.8888888888888888,
             "#fdca26"
            ],
            [
             1,
             "#f0f921"
            ]
           ],
           "sequentialminus": [
            [
             0,
             "#0d0887"
            ],
            [
             0.1111111111111111,
             "#46039f"
            ],
            [
             0.2222222222222222,
             "#7201a8"
            ],
            [
             0.3333333333333333,
             "#9c179e"
            ],
            [
             0.4444444444444444,
             "#bd3786"
            ],
            [
             0.5555555555555556,
             "#d8576b"
            ],
            [
             0.6666666666666666,
             "#ed7953"
            ],
            [
             0.7777777777777778,
             "#fb9f3a"
            ],
            [
             0.8888888888888888,
             "#fdca26"
            ],
            [
             1,
             "#f0f921"
            ]
           ]
          },
          "colorway": [
           "#636efa",
           "#EF553B",
           "#00cc96",
           "#ab63fa",
           "#FFA15A",
           "#19d3f3",
           "#FF6692",
           "#B6E880",
           "#FF97FF",
           "#FECB52"
          ],
          "font": {
           "color": "#2a3f5f"
          },
          "geo": {
           "bgcolor": "white",
           "lakecolor": "white",
           "landcolor": "#E5ECF6",
           "showlakes": true,
           "showland": true,
           "subunitcolor": "white"
          },
          "hoverlabel": {
           "align": "left"
          },
          "hovermode": "closest",
          "mapbox": {
           "style": "light"
          },
          "paper_bgcolor": "white",
          "plot_bgcolor": "#E5ECF6",
          "polar": {
           "angularaxis": {
            "gridcolor": "white",
            "linecolor": "white",
            "ticks": ""
           },
           "bgcolor": "#E5ECF6",
           "radialaxis": {
            "gridcolor": "white",
            "linecolor": "white",
            "ticks": ""
           }
          },
          "scene": {
           "xaxis": {
            "backgroundcolor": "#E5ECF6",
            "gridcolor": "white",
            "gridwidth": 2,
            "linecolor": "white",
            "showbackground": true,
            "ticks": "",
            "zerolinecolor": "white"
           },
           "yaxis": {
            "backgroundcolor": "#E5ECF6",
            "gridcolor": "white",
            "gridwidth": 2,
            "linecolor": "white",
            "showbackground": true,
            "ticks": "",
            "zerolinecolor": "white"
           },
           "zaxis": {
            "backgroundcolor": "#E5ECF6",
            "gridcolor": "white",
            "gridwidth": 2,
            "linecolor": "white",
            "showbackground": true,
            "ticks": "",
            "zerolinecolor": "white"
           }
          },
          "shapedefaults": {
           "line": {
            "color": "#2a3f5f"
           }
          },
          "ternary": {
           "aaxis": {
            "gridcolor": "white",
            "linecolor": "white",
            "ticks": ""
           },
           "baxis": {
            "gridcolor": "white",
            "linecolor": "white",
            "ticks": ""
           },
           "bgcolor": "#E5ECF6",
           "caxis": {
            "gridcolor": "white",
            "linecolor": "white",
            "ticks": ""
           }
          },
          "title": {
           "x": 0.05
          },
          "xaxis": {
           "automargin": true,
           "gridcolor": "white",
           "linecolor": "white",
           "ticks": "",
           "title": {
            "standoff": 15
           },
           "zerolinecolor": "white",
           "zerolinewidth": 2
          },
          "yaxis": {
           "automargin": true,
           "gridcolor": "white",
           "linecolor": "white",
           "ticks": "",
           "title": {
            "standoff": 15
           },
           "zerolinecolor": "white",
           "zerolinewidth": 2
          }
         }
        },
        "title": {
         "text": "Gráfico de Grilla"
        },
        "width": 800,
        "xaxis": {
         "anchor": "y",
         "domain": [
          0,
          1
         ],
         "title": {
          "text": "Eje X"
         }
        },
        "yaxis": {
         "anchor": "x",
         "domain": [
          0,
          1
         ],
         "title": {
          "text": "Eje Y"
         }
        }
       }
      }
     },
     "metadata": {},
     "output_type": "display_data"
    }
   ],
   "source": [
    "# Graficamos la malla simulada\n",
    "sim.plot_grid()"
   ]
  },
  {
   "cell_type": "code",
   "execution_count": 98,
   "metadata": {},
   "outputs": [
    {
     "data": {
      "image/png": "[encoded data removed]",
      "text/plain": [
       "<Figure size 800x800 with 1 Axes>"
      ]
     },
     "metadata": {},
     "output_type": "display_data"
    }
   ],
   "source": [
    "# Graficamos el modelo de semivariograma usado\n",
    "sim.plot_cov_model()"
   ]
  },
  {
   "cell_type": "code",
   "execution_count": 99,
   "metadata": {},
   "outputs": [
    {
     "data": {
      "text/plain": [
       "array([[5.        , 0.79247131, 1.13266515, ..., 1.48679483, 0.81631176,\n",
       "        2.77254641],\n",
       "       [0.79247131, 5.        , 0.53684501, ..., 0.75402037, 1.24488049,\n",
       "        0.45236734],\n",
       "       [1.13266515, 0.53684501, 5.        , ..., 0.3556984 , 1.60266112,\n",
       "        0.80122402],\n",
       "       ...,\n",
       "       [1.48679483, 0.75402037, 0.3556984 , ..., 5.        , 0.36714775,\n",
       "        1.34747041],\n",
       "       [0.81631176, 1.24488049, 1.60266112, ..., 0.36714775, 5.        ,\n",
       "        0.47057425],\n",
       "       [2.77254641, 0.45236734, 0.80122402, ..., 1.34747041, 0.47057425,\n",
       "        5.        ]], shape=(100, 100))"
      ]
     },
     "execution_count": 99,
     "metadata": {},
     "output_type": "execute_result"
    }
   ],
   "source": [
    "# Obtenemos la matriz de covarianzas\n",
    "sim.cov_matrix"
   ]
  },
  {
   "cell_type": "code",
   "execution_count": 100,
   "metadata": {},
   "outputs": [
    {
     "data": {
      "text/plain": [
       "array([[-2.60107108,  2.63159934,  0.44809961,  0.27500159,  3.05250784,\n",
       "         2.49900104,  3.10589377,  1.32416241, -0.86369976, -1.44937713,\n",
       "         0.19232537, -1.81876423,  2.1189321 , -1.10721234,  1.62975743,\n",
       "         3.79316606, -0.85748565,  2.59085892,  3.28413984,  0.40675184,\n",
       "         2.60680896,  1.83082109, -0.49874738,  0.629241  ,  0.78724391,\n",
       "        -0.9938345 ,  3.59195355,  2.9809772 , -1.61890629,  0.00955592,\n",
       "         3.9946752 ,  1.02806804,  3.55542403,  0.87871545, -3.59094282,\n",
       "         1.30489821, -0.29448019, -1.97006026,  4.28433761,  3.05466788,\n",
       "         3.03758327, -0.36014521,  1.41014721, -3.92546945, -0.42749657,\n",
       "        -1.18490963, -1.41745864,  4.84494865,  3.19325029, -0.71230464,\n",
       "         3.59715926,  2.26021533,  3.20754532, -2.21640413,  3.20188247,\n",
       "         1.02676474, -0.09507613,  4.9186785 ,  2.19526134,  1.36218451,\n",
       "         3.92866562, -0.49829732,  1.93456367, -2.71744412,  1.81436978,\n",
       "        -2.817699  , -0.19972823,  2.66620516,  4.0422711 , -1.46002255,\n",
       "        -0.32919133,  3.20106644,  2.42040019,  3.7071939 ,  2.36673735,\n",
       "         2.21898067,  2.08724398, -0.62167818,  1.02588796,  3.86442557,\n",
       "         2.17186685,  2.88514545,  4.37614661, -0.94169654,  2.87009816,\n",
       "         3.09815603,  0.19435147, -1.59820772,  2.69385897, -0.9278483 ,\n",
       "         1.02260502, -1.49370157, -1.41688687, -2.59469726,  0.86178997,\n",
       "         1.57857387,  4.23833485,  2.32017832,  3.19911593,  0.64379329]])"
      ]
     },
     "execution_count": 100,
     "metadata": {},
     "output_type": "execute_result"
    }
   ],
   "source": [
    "# Obtenemos las simulaciones \n",
    "sim.samples"
   ]
  },
  {
   "cell_type": "code",
   "execution_count": 101,
   "metadata": {},
   "outputs": [],
   "source": [
    "normal = np.random.normal(0, 1, 100)"
   ]
  },
  {
   "cell_type": "code",
   "execution_count": 102,
   "metadata": {},
   "outputs": [
    {
     "data": {
      "text/plain": [
       "<Axes: ylabel='Count'>"
      ]
     },
     "execution_count": 102,
     "metadata": {},
     "output_type": "execute_result"
    },
    {
     "data": {
      "image/png": "[encoded data removed]",
      "text/plain": [
       "<Figure size 640x480 with 1 Axes>"
      ]
     },
     "metadata": {},
     "output_type": "display_data"
    }
   ],
   "source": [
    "sns.histplot(sim.samples[0], kde=True)"
   ]
  },
  {
   "cell_type": "markdown",
   "metadata": {},
   "source": [
    "### **Ejemplo de Uso Clase \"OneSampleTTestPower\"**"
   ]
  },
  {
   "cell_type": "code",
   "execution_count": null,
   "metadata": {},
   "outputs": [],
   "source": [
    "# Instanciamos la clase\n",
    "test = OneSampleTTestPower(alpha=0.05, \n",
    "                           simulador=Simulador, \n",
    "                           valores_grid_type=[\"random\"],\n",
    "                           min_x_grid=0,\n",
    "                           max_x_grid=100,\n",
    "                           min_y_grid=0,\n",
    "                           max_y_grid=100,\n",
    "                           valores_mu=[0],\n",
    "                           valores_variog_model=[\"exponencial\"],\n",
    "                           valores_sigma2=[1],\n",
    "                           valores_tau2=[0], \n",
    "                           valores_phi=[0], \n",
    "                           valores_n=[100],\n",
    "                           min_delta=0, \n",
    "                           max_delta=0, \n",
    "                           n_points_delta=1,\n",
    "                           n_bootstrap=10000)"
   ]
  },
  {
   "cell_type": "code",
   "execution_count": null,
   "metadata": {},
   "outputs": [],
   "source": [
    "# Corremos las pruebas\n",
    "with Timer() as t:\n",
    "    test.run()"
   ]
  },
  {
   "cell_type": "code",
   "execution_count": null,
   "metadata": {},
   "outputs": [],
   "source": [
    "test.resultados_totales"
   ]
  },
  {
   "cell_type": "code",
   "execution_count": null,
   "metadata": {},
   "outputs": [],
   "source": []
  }
 ],
 "metadata": {
  "kernelspec": {
   "display_name": "Python (Kernel Paper 1)",
   "language": "python",
   "name": "kernel_paper_1"
  },
  "language_info": {
   "codemirror_mode": {
    "name": "ipython",
    "version": 3
   },
   "file_extension": ".py",
   "mimetype": "text/x-python",
   "name": "python",
   "nbconvert_exporter": "python",
   "pygments_lexer": "ipython3",
   "version": "3.12.8"
  }
 },
 "nbformat": 4,
 "nbformat_minor": 2
}
